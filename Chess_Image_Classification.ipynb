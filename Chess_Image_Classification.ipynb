{
  "nbformat": 4,
  "nbformat_minor": 0,
  "metadata": {
    "colab": {
      "provenance": [],
      "collapsed_sections": [],
      "mount_file_id": "159dgMGRxxvNrXi-uggDJmXl5k-03XmLX",
      "authorship_tag": "ABX9TyOWQC/vUj61WpXvHlcvI7ue",
      "include_colab_link": true
    },
    "kernelspec": {
      "name": "python3",
      "display_name": "Python 3"
    },
    "language_info": {
      "name": "python"
    },
    "accelerator": "GPU",
    "gpuClass": "standard"
  },
  "cells": [
    {
      "cell_type": "markdown",
      "metadata": {
        "id": "view-in-github",
        "colab_type": "text"
      },
      "source": [
        "<a href=\"https://colab.research.google.com/github/ananthu-raj/Image-Classification-Experimentation/blob/main/Chess_Image_Classification.ipynb\" target=\"_parent\"><img src=\"https://colab.research.google.com/assets/colab-badge.svg\" alt=\"Open In Colab\"/></a>"
      ]
    },
    {
      "cell_type": "markdown",
      "source": [
        "# **Chess Image Classification**"
      ],
      "metadata": {
        "id": "9RlcA0KtfN5y"
      }
    },
    {
      "cell_type": "code",
      "source": [
        "# Importing libraries\n",
        "#!pip install tensorflow-gpu\n",
        "import os\n",
        "import matplotlib.pyplot as plt\n",
        "import tensorflow as tf\n",
        "from keras.preprocessing.image import ImageDataGenerator"
      ],
      "metadata": {
        "id": "cFNzSskHejgX"
      },
      "execution_count": 16,
      "outputs": []
    },
    {
      "cell_type": "code",
      "execution_count": 1,
      "metadata": {
        "colab": {
          "base_uri": "https://localhost:8080/"
        },
        "id": "54n2kHGhXdtz",
        "outputId": "4a122ed5-2430-4ad6-8a61-00f0443858b2"
      },
      "outputs": [
        {
          "output_type": "stream",
          "name": "stdout",
          "text": [
            "Thu Nov 10 11:56:07 2022       \n",
            "+-----------------------------------------------------------------------------+\n",
            "| NVIDIA-SMI 460.32.03    Driver Version: 460.32.03    CUDA Version: 11.2     |\n",
            "|-------------------------------+----------------------+----------------------+\n",
            "| GPU  Name        Persistence-M| Bus-Id        Disp.A | Volatile Uncorr. ECC |\n",
            "| Fan  Temp  Perf  Pwr:Usage/Cap|         Memory-Usage | GPU-Util  Compute M. |\n",
            "|                               |                      |               MIG M. |\n",
            "|===============================+======================+======================|\n",
            "|   0  Tesla T4            Off  | 00000000:00:04.0 Off |                    0 |\n",
            "| N/A   47C    P8     9W /  70W |      0MiB / 15109MiB |      0%      Default |\n",
            "|                               |                      |                  N/A |\n",
            "+-------------------------------+----------------------+----------------------+\n",
            "                                                                               \n",
            "+-----------------------------------------------------------------------------+\n",
            "| Processes:                                                                  |\n",
            "|  GPU   GI   CI        PID   Type   Process name                  GPU Memory |\n",
            "|        ID   ID                                                   Usage      |\n",
            "|=============================================================================|\n",
            "|  No running processes found                                                 |\n",
            "+-----------------------------------------------------------------------------+\n"
          ]
        }
      ],
      "source": [
        "# Checking the GPU Version\n",
        "!nvidia-smi"
      ]
    },
    {
      "cell_type": "code",
      "source": [
        "# To visualise the number of each chess pieces\n",
        "dirname = '/content/drive/MyDrive/Chess'\n",
        "dir_chess_folders = os.listdir(dirname)\n",
        "dir_chess_paths = [os.path.join(dirname, path) for path in dir_chess_folders]\n",
        "print(dir_chess_paths)\n",
        "\n",
        "chess_dic = {}\n",
        "for path in dir_chess_paths:\n",
        "    head, tail = os.path.split(path)\n",
        "    chess_dic[tail] = len(os.listdir(path))\n",
        "label_list = [\"{}: {}\".format(key, chess_dic[key]) for key in chess_dic]\n",
        "plt.figure(figsize=(12, 8))\n",
        "plt.bar(range(len(chess_dic)), list(chess_dic.values()), color=\"blue\")\n",
        "plt.xticks(range(len(chess_dic)), list(label_list))\n",
        "plt.show();"
      ],
      "metadata": {
        "colab": {
          "base_uri": "https://localhost:8080/",
          "height": 521
        },
        "id": "L9MKKgv1bPYb",
        "outputId": "152121c9-829f-421b-904a-15c052b121e6"
      },
      "execution_count": 11,
      "outputs": [
        {
          "output_type": "stream",
          "name": "stdout",
          "text": [
            "['/content/drive/MyDrive/Chess/pawn_resized', '/content/drive/MyDrive/Chess/Rook-resize', '/content/drive/MyDrive/Chess/Queen-Resized', '/content/drive/MyDrive/Chess/bishop_resized', '/content/drive/MyDrive/Chess/knight-resize']\n"
          ]
        },
        {
          "output_type": "display_data",
          "data": {
            "text/plain": [
              "<Figure size 864x576 with 1 Axes>"
            ],
            "image/png": "[encoded data removed]"
          },
          "metadata": {
            "needs_background": "light"
          }
        }
      ]
    },
    {
      "cell_type": "markdown",
      "source": [
        "# CNN"
      ],
      "metadata": {
        "id": "hcLlzvJaf__r"
      }
    },
    {
      "cell_type": "code",
      "source": [
        "# Resizing different resolution images to a common resolution\n",
        "img_size_h = 350\n",
        "img_size_w = 350\n",
        "\n",
        "# Normalizing RGB pixel values between 0 and 1\n",
        "train_datagen = ImageDataGenerator(rescale=1. / 255, validation_split=0.3)\n",
        "input_shape = (img_size_h, img_size_w, 3)\n",
        "batch_size = 16\n",
        "\n",
        "# Splitting the data into training and test sets\n",
        "train_generator = train_datagen.flow_from_directory(\n",
        "    dirname,\n",
        "    target_size=(img_size_h, img_size_w),\n",
        "    color_mode='rgb',\n",
        "    batch_size=batch_size,\n",
        "    class_mode='categorical',\n",
        "    subset='training',\n",
        "    shuffle=True,  # we shuffle our images for better performance\n",
        "    seed=8)\n",
        "validation_generator = train_datagen.flow_from_directory(\n",
        "    dirname,\n",
        "    target_size=(img_size_h, img_size_w),\n",
        "    color_mode='rgb',\n",
        "    batch_size=batch_size,\n",
        "    class_mode='categorical',\n",
        "    subset='validation',\n",
        "    shuffle=True,\n",
        "    seed=7)"
      ],
      "metadata": {
        "colab": {
          "base_uri": "https://localhost:8080/"
        },
        "id": "hWeQVn91ehRd",
        "outputId": "72686525-2f4d-44ac-f081-a18d16ea7261"
      },
      "execution_count": 20,
      "outputs": [
        {
          "output_type": "stream",
          "name": "stdout",
          "text": [
            "Found 458 images belonging to 5 classes.\n",
            "Found 193 images belonging to 5 classes.\n"
          ]
        }
      ]
    },
    {
      "cell_type": "code",
      "source": [],
      "metadata": {
        "id": "zL1CiRNQgGiI"
      },
      "execution_count": null,
      "outputs": []
    }
  ]
}